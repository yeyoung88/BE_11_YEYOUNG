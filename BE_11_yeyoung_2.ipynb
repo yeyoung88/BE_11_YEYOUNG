{
 "cells": [
  {
   "cell_type": "markdown",
   "id": "e520274f",
   "metadata": {},
   "source": [
    "문제1. 현재 작업 디렉터리를 나타내는 명령어를 작성해주세요"
   ]
  },
  {
   "cell_type": "code",
   "execution_count": null,
   "id": "0dabd8fc",
   "metadata": {},
   "outputs": [],
   "source": [
    "pwd"
   ]
  },
  {
   "cell_type": "markdown",
   "id": "b666109f",
   "metadata": {},
   "source": [
    "문제2. 파일을 backup 폴더에 복사하는 명령어를 작성해주세요 (파일 이름은 source.txt)"
   ]
  },
  {
   "cell_type": "code",
   "execution_count": null,
   "id": "b6e17141",
   "metadata": {},
   "outputs": [],
   "source": [
    "cp source.txt backup/"
   ]
  },
  {
   "cell_type": "markdown",
   "id": "6b4bbb01",
   "metadata": {},
   "source": [
    "문제3. 특정 파일(filename.txt)을 삭제하는 명령어를 작성해주세요"
   ]
  },
  {
   "cell_type": "code",
   "execution_count": null,
   "id": "9ed75c2b",
   "metadata": {},
   "outputs": [],
   "source": [
    "rm filename.txt"
   ]
  },
  {
   "cell_type": "markdown",
   "id": "da4b0100",
   "metadata": {},
   "source": [
    "문제4. 새로운 디렉터리(new_folder)를 생성하는 명령어를 작성해주세요"
   ]
  },
  {
   "cell_type": "code",
   "execution_count": null,
   "id": "eb6d2301",
   "metadata": {},
   "outputs": [],
   "source": [
    "mkdir new_folder"
   ]
  },
  {
   "cell_type": "markdown",
   "id": "644b0132",
   "metadata": {},
   "source": [
    "문제5. 빈 파일(newfile.txt)을 생성하는 명령어를 작성해주세요"
   ]
  },
  {
   "cell_type": "code",
   "execution_count": null,
   "id": "de188021",
   "metadata": {},
   "outputs": [],
   "source": [
    "touch newfile.txt"
   ]
  },
  {
   "cell_type": "markdown",
   "id": "681b1ad2",
   "metadata": {},
   "source": [
    "문제6. 시스템 내 특정 파일(file.txt)의 위치를 찾는 명령어를 작성해주세요"
   ]
  },
  {
   "cell_type": "code",
   "execution_count": null,
   "id": "06c48559",
   "metadata": {},
   "outputs": [],
   "source": [
    "locate file.txt"
   ]
  },
  {
   "cell_type": "markdown",
   "id": "593a46e6",
   "metadata": {},
   "source": [
    "문제7. 파일(file.txt)을 상위 디렉토리로 이동하는 명령어를 작성해주세요"
   ]
  },
  {
   "cell_type": "code",
   "execution_count": null,
   "id": "338a664d",
   "metadata": {},
   "outputs": [],
   "source": [
    "mv file.txt ../"
   ]
  },
  {
   "cell_type": "markdown",
   "id": "eeeb8ee9",
   "metadata": {},
   "source": [
    "문제8. 현재 디렉토리의 파일 목록을 확인하는 명령어를 작성해주세요"
   ]
  },
  {
   "cell_type": "code",
   "execution_count": null,
   "id": "cd591302",
   "metadata": {},
   "outputs": [],
   "source": [
    "ls"
   ]
  },
  {
   "cell_type": "markdown",
   "id": "08160f7c",
   "metadata": {},
   "source": [
    "문제9. 파일 목록을 상세히 확인하는 명령어를 작성해주세요"
   ]
  },
  {
   "cell_type": "code",
   "execution_count": null,
   "id": "7cbf77eb",
   "metadata": {},
   "outputs": [],
   "source": [
    "ls -l"
   ]
  },
  {
   "cell_type": "markdown",
   "id": "4814716b",
   "metadata": {},
   "source": [
    "문제10. 숨김 파일을 포함한 목록을 확인하는 명령어를 작성해주세요"
   ]
  },
  {
   "cell_type": "code",
   "execution_count": null,
   "id": "7a36cca5",
   "metadata": {},
   "outputs": [],
   "source": [
    "ls -a"
   ]
  },
  {
   "cell_type": "markdown",
   "id": "7c13bab5",
   "metadata": {},
   "source": [
    "문제11. 숨김 파일 포함 + 상세 정보를 확인하는 명령어를 작성해주세요"
   ]
  },
  {
   "cell_type": "code",
   "execution_count": null,
   "id": "7169d6dd",
   "metadata": {},
   "outputs": [],
   "source": [
    "ls -al"
   ]
  },
  {
   "cell_type": "markdown",
   "id": "40858601",
   "metadata": {},
   "source": [
    "문제12. 용량 단위를 보기 쉬운 형식으로 출력하는 명령어를 작성해주세요"
   ]
  },
  {
   "cell_type": "code",
   "execution_count": null,
   "id": "e2ca2be1",
   "metadata": {},
   "outputs": [],
   "source": [
    "ls -lh"
   ]
  },
  {
   "cell_type": "markdown",
   "id": "a9581ee0",
   "metadata": {},
   "source": [
    "문제13. 파일을 수정한 시간 기준으로 정렬하는 명령어를 작성해주세요"
   ]
  },
  {
   "cell_type": "code",
   "execution_count": null,
   "id": "557528d5",
   "metadata": {},
   "outputs": [],
   "source": [
    "ls -lt"
   ]
  },
  {
   "cell_type": "markdown",
   "id": "8c898491",
   "metadata": {},
   "source": [
    "문제14. 하위 디렉토리까지 모두 보여주는 명령어를 작성해주세요"
   ]
  },
  {
   "cell_type": "code",
   "execution_count": null,
   "id": "9711c1ec",
   "metadata": {},
   "outputs": [],
   "source": [
    "ls -R"
   ]
  },
  {
   "cell_type": "markdown",
   "id": "bcce9cc2",
   "metadata": {},
   "source": [
    "문제15. 현재 디렉토리에 있는 모든 .txt 파일을 backup 폴더에 복사하는 명령어를 작성해주세요"
   ]
  },
  {
   "cell_type": "code",
   "execution_count": null,
   "id": "350b73f5",
   "metadata": {},
   "outputs": [],
   "source": [
    "cp *.txt backup/"
   ]
  },
  {
   "cell_type": "markdown",
   "id": "2db949da",
   "metadata": {},
   "source": [
    "문제16. 폴더(foldername)를 삭제하는 명령어를 작성해주세요"
   ]
  },
  {
   "cell_type": "code",
   "execution_count": null,
   "id": "6d003cae",
   "metadata": {},
   "outputs": [],
   "source": [
    "rm -r foldername"
   ]
  },
  {
   "cell_type": "markdown",
   "id": "931deef9",
   "metadata": {},
   "source": [
    "문제17. 파일 이름을 oldname.txt에서 newname.txt로 변경하는 명령어를 작성해주세요"
   ]
  },
  {
   "cell_type": "code",
   "execution_count": null,
   "id": "aa12a751",
   "metadata": {},
   "outputs": [],
   "source": [
    "mv oldname.txt newname.txt"
   ]
  },
  {
   "cell_type": "markdown",
   "id": "38f8db8a",
   "metadata": {},
   "source": [
    "문제18. a.txt, b.txt라는 두 개의 새 파일을 한 줄 명령어로 생성해주세요"
   ]
  },
  {
   "cell_type": "code",
   "execution_count": null,
   "id": "40ad065f",
   "metadata": {},
   "outputs": [],
   "source": [
    "touch a.txt b.txt"
   ]
  },
  {
   "cell_type": "markdown",
   "id": "8d6235e0",
   "metadata": {},
   "source": [
    "문제19. a/b/c 구조의 중첩 디렉터리를 한 번에 생성하는 명령어를 작성해주세요"
   ]
  },
  {
   "cell_type": "code",
   "execution_count": null,
   "id": "28ddb40a",
   "metadata": {},
   "outputs": [],
   "source": [
    "mkdir -p a/b/c"
   ]
  },
  {
   "cell_type": "markdown",
   "id": "bd5653d1",
   "metadata": {},
   "source": [
    "문제20. /home 디렉토리의 파일 목록을 확인하는 명령어를 작성해주세요"
   ]
  },
  {
   "cell_type": "code",
   "execution_count": null,
   "id": "735a37e4",
   "metadata": {},
   "outputs": [],
   "source": [
    "ls /home"
   ]
  }
 ],
 "metadata": {},
 "nbformat": 4,
 "nbformat_minor": 5
}
